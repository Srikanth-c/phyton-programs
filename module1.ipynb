{
  "nbformat": 4,
  "nbformat_minor": 0,
  "metadata": {
    "colab": {
      "name": "module 1.ipynb",
      "provenance": [],
      "authorship_tag": "ABX9TyOX5P/JEtesQDw2nxnI0Z1W",
      "include_colab_link": true
    },
    "kernelspec": {
      "name": "python3",
      "display_name": "Python 3"
    },
    "language_info": {
      "name": "python"
    }
  },
  "cells": [
    {
      "cell_type": "markdown",
      "metadata": {
        "id": "view-in-github",
        "colab_type": "text"
      },
      "source": [
        "<a href=\"https://colab.research.google.com/github/Srikanth-c/phyton-programs/blob/main/module1.ipynb\" target=\"_parent\"><img src=\"https://colab.research.google.com/assets/colab-badge.svg\" alt=\"Open In Colab\"/></a>"
      ]
    },
    {
      "cell_type": "code",
      "source": [
        "ke 2 values and store them in variable"
      ],
      "metadata": {
        "id": "YfVRmDoBZ-G7"
      },
      "execution_count": null,
      "outputs": []
    },
    {
      "cell_type": "markdown",
      "source": [
        ""
      ],
      "metadata": {
        "id": "emN9FtXAZ9o7"
      }
    },
    {
      "cell_type": "code",
      "execution_count": null,
      "metadata": {
        "colab": {
          "base_uri": "https://localhost:8080/"
        },
        "id": "sSc4Jr5dQnIo",
        "outputId": "b8176f83-4dc8-4bee-ffe5-318aa9797a45"
      },
      "outputs": [
        {
          "output_type": "stream",
          "name": "stdout",
          "text": [
            "enter 1st value55\n",
            "enter 2nd value45\n",
            "55 45\n"
          ]
        }
      ],
      "source": [
        "\n",
        "a=int(input(\"enter 1st value\"))\n",
        "b=int(input(\"enter 2nd value\"))\n",
        "print(a,b)"
      ]
    },
    {
      "cell_type": "markdown",
      "source": [
        "km to m"
      ],
      "metadata": {
        "id": "mKA0OyNFZ7VK"
      }
    },
    {
      "cell_type": "code",
      "source": [
        "a=int(input(\"enter KM value\"))\n",
        "b=(a*1000)\n",
        "print(b)"
      ],
      "metadata": {
        "id": "28xw1N7fRSI_",
        "colab": {
          "base_uri": "https://localhost:8080/"
        },
        "outputId": "db314ddb-bf7e-46f3-f59d-73f148abf005"
      },
      "execution_count": null,
      "outputs": [
        {
          "output_type": "stream",
          "name": "stdout",
          "text": [
            "enter KM value9\n",
            "9000\n"
          ]
        }
      ]
    },
    {
      "cell_type": "code",
      "source": [
        "\n",
        "a=int(input(\"enter 1st value\"))\n",
        "b=int(input(\"enter 2nd value\"))\n",
        "c=(a+b)\n",
        "d=(a-b)\n",
        "e=(a*b)\n",
        "f=(a/b)\n",
        "print(c)\n",
        "print(d)\n",
        "print(e)\n",
        "print(f)"
      ],
      "metadata": {
        "id": "-Xj3Mpi0Ztvj"
      },
      "execution_count": null,
      "outputs": []
    },
    {
      "cell_type": "code",
      "source": [
        "a=int(input(\"enter 1st sub value\"))\n",
        "b=int(input(\"enter 2nd sub value\"))\n",
        "c=int(input(\"enter 3rd sub value\"))\n",
        "d=int(input(\"enter 4nd sub value\"))\n",
        "e=int(input(\"enter 5th sub value\"))\n",
        "f=(a+b+c+d+e)/5\n",
        "if f>85:\n",
        "  print(\"A\")\n",
        "elif f>70 and f<85:\n",
        "  print(\"B\")\n",
        "elif f>50 and f<75:\n",
        "  print(\"C\")\n",
        "else:\n",
        "  print(\"fail\")"
      ],
      "metadata": {
        "id": "tw2b4cCkb6rz",
        "colab": {
          "base_uri": "https://localhost:8080/"
        },
        "outputId": "934519f9-7c1d-4b7e-e934-e4773406c8f0"
      },
      "execution_count": 8,
      "outputs": [
        {
          "output_type": "stream",
          "name": "stdout",
          "text": [
            "enter 1st sub value55\n",
            "enter 2nd sub value66\n",
            "enter 3rd sub value77\n",
            "enter 4nd sub value88\n",
            "enter 5th sub value99\n",
            "B\n"
          ]
        }
      ]
    },
    {
      "cell_type": "code",
      "source": [
        "a=90\n",
        "b=float(a)\n",
        "print(b)\n",
        "type(b)"
      ],
      "metadata": {
        "colab": {
          "base_uri": "https://localhost:8080/"
        },
        "id": "ZB-gIST-fgqP",
        "outputId": "6c838b46-f677-4502-b5f9-9537845ca0de"
      },
      "execution_count": 9,
      "outputs": [
        {
          "output_type": "stream",
          "name": "stdout",
          "text": [
            "90.0\n"
          ]
        },
        {
          "output_type": "execute_result",
          "data": {
            "text/plain": [
              "float"
            ]
          },
          "metadata": {},
          "execution_count": 9
        }
      ]
    },
    {
      "cell_type": "code",
      "source": [
        "for A in range(100,250):\n",
        " if A%2 == 1:\n",
        "   print(A)\n",
        "   "
      ],
      "metadata": {
        "colab": {
          "base_uri": "https://localhost:8080/"
        },
        "id": "4Aw4jcegjuYW",
        "outputId": "522352d5-ec9e-4249-e691-b0650ad8ca3f"
      },
      "execution_count": 24,
      "outputs": [
        {
          "output_type": "stream",
          "name": "stdout",
          "text": [
            "101\n",
            "103\n",
            "105\n",
            "107\n",
            "109\n",
            "111\n",
            "113\n",
            "115\n",
            "117\n",
            "119\n",
            "121\n",
            "123\n",
            "125\n",
            "127\n",
            "129\n",
            "131\n",
            "133\n",
            "135\n",
            "137\n",
            "139\n",
            "141\n",
            "143\n",
            "145\n",
            "147\n",
            "149\n",
            "151\n",
            "153\n",
            "155\n",
            "157\n",
            "159\n",
            "161\n",
            "163\n",
            "165\n",
            "167\n",
            "169\n",
            "171\n",
            "173\n",
            "175\n",
            "177\n",
            "179\n",
            "181\n",
            "183\n",
            "185\n",
            "187\n",
            "189\n",
            "191\n",
            "193\n",
            "195\n",
            "197\n",
            "199\n",
            "201\n",
            "203\n",
            "205\n",
            "207\n",
            "209\n",
            "211\n",
            "213\n",
            "215\n",
            "217\n",
            "219\n",
            "221\n",
            "223\n",
            "225\n",
            "227\n",
            "229\n",
            "231\n",
            "233\n",
            "235\n",
            "237\n",
            "239\n",
            "241\n",
            "243\n",
            "245\n",
            "247\n",
            "249\n",
            "100\n",
            "102\n",
            "104\n",
            "106\n",
            "108\n",
            "110\n",
            "112\n",
            "114\n",
            "116\n",
            "118\n",
            "120\n",
            "122\n",
            "124\n",
            "126\n",
            "128\n",
            "130\n",
            "132\n",
            "134\n",
            "136\n",
            "138\n",
            "140\n",
            "142\n",
            "144\n",
            "146\n",
            "148\n",
            "150\n",
            "152\n",
            "154\n",
            "156\n",
            "158\n",
            "160\n",
            "162\n",
            "164\n",
            "166\n",
            "168\n",
            "170\n",
            "172\n",
            "174\n",
            "176\n",
            "178\n",
            "180\n",
            "182\n",
            "184\n",
            "186\n",
            "188\n",
            "190\n",
            "192\n",
            "194\n",
            "196\n",
            "198\n",
            "200\n",
            "202\n",
            "204\n",
            "206\n",
            "208\n",
            "210\n",
            "212\n",
            "214\n",
            "216\n",
            "218\n",
            "220\n",
            "222\n",
            "224\n",
            "226\n",
            "228\n",
            "230\n",
            "232\n",
            "234\n",
            "236\n",
            "238\n",
            "240\n",
            "242\n",
            "244\n",
            "246\n",
            "248\n"
          ]
        }
      ]
    },
    {
      "cell_type": "code",
      "source": [
        "import math\n",
        "a=float(input(\"enter a value\"))\n",
        "print(math.sqrt(a))"
      ],
      "metadata": {
        "colab": {
          "base_uri": "https://localhost:8080/"
        },
        "id": "NEVNbarRm87V",
        "outputId": "e2b48184-e828-4568-a7dd-12efe3a34455"
      },
      "execution_count": 25,
      "outputs": [
        {
          "output_type": "stream",
          "name": "stdout",
          "text": [
            "enter a value55\n",
            "7.416198487095663\n"
          ]
        }
      ]
    },
    {
      "cell_type": "code",
      "source": [
        "import math\n",
        "a=float(input(\"enter a value\"))\n",
        "b=a*a\n",
        "print(b)"
      ],
      "metadata": {
        "colab": {
          "base_uri": "https://localhost:8080/"
        },
        "id": "8S8tOz9XqUoa",
        "outputId": "2738f464-ccc7-4004-f826-573ae103fc04"
      },
      "execution_count": 28,
      "outputs": [
        {
          "output_type": "stream",
          "name": "stdout",
          "text": [
            "enter a value5\n",
            "25.0\n"
          ]
        }
      ]
    },
    {
      "cell_type": "code",
      "source": [
        "import math\n",
        "a=float(input(\"enter a value\"))\n",
        "print(math.floor(a))"
      ],
      "metadata": {
        "colab": {
          "base_uri": "https://localhost:8080/"
        },
        "id": "5CaGA3NdqaxD",
        "outputId": "f3604d5c-2b1d-4b23-c141-dbc65501933b"
      },
      "execution_count": 32,
      "outputs": [
        {
          "output_type": "stream",
          "name": "stdout",
          "text": [
            "enter a value25.6\n",
            "25\n"
          ]
        }
      ]
    },
    {
      "cell_type": "code",
      "source": [
        "import math\n",
        "a=float(input(\"enter a value\"))\n",
        "print(math.ceil(a))"
      ],
      "metadata": {
        "colab": {
          "base_uri": "https://localhost:8080/"
        },
        "id": "_XYrsKPwqzCT",
        "outputId": "05636895-8acf-46a6-9065-197298e0a761"
      },
      "execution_count": 31,
      "outputs": [
        {
          "output_type": "stream",
          "name": "stdout",
          "text": [
            "enter a value25.6\n",
            "26\n"
          ]
        }
      ]
    },
    {
      "cell_type": "code",
      "source": [
        "import math\n",
        "a=float(input(\"enter a value\"))\n",
        "print(math.fabs(a))"
      ],
      "metadata": {
        "colab": {
          "base_uri": "https://localhost:8080/"
        },
        "id": "tGjQMmPoq3dy",
        "outputId": "d91cc866-3460-4b35-abf2-4ddaa3ccaa7b"
      },
      "execution_count": 33,
      "outputs": [
        {
          "output_type": "stream",
          "name": "stdout",
          "text": [
            "enter a value25.9\n",
            "25.9\n"
          ]
        }
      ]
    },
    {
      "cell_type": "code",
      "source": [
        ""
      ],
      "metadata": {
        "id": "SGBhLaP9uSdh"
      },
      "execution_count": null,
      "outputs": []
    }
  ]
}