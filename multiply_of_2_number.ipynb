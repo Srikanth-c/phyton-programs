{
  "nbformat": 4,
  "nbformat_minor": 0,
  "metadata": {
    "colab": {
      "name": "multiply of 2 number.ipynb",
      "provenance": [],
      "authorship_tag": "ABX9TyMF9svbYU+pja7FQULOThGr",
      "include_colab_link": true
    },
    "kernelspec": {
      "name": "python3",
      "display_name": "Python 3"
    },
    "language_info": {
      "name": "python"
    }
  },
  "cells": [
    {
      "cell_type": "markdown",
      "metadata": {
        "id": "view-in-github",
        "colab_type": "text"
      },
      "source": [
        "<a href=\"https://colab.research.google.com/github/Srikanth-c/phyton-programs/blob/main/multiply_of_2_number.ipynb\" target=\"_parent\"><img src=\"https://colab.research.google.com/assets/colab-badge.svg\" alt=\"Open In Colab\"/></a>"
      ]
    },
    {
      "cell_type": "code",
      "execution_count": null,
      "metadata": {
        "id": "fNtqB6SPTBJ1"
      },
      "outputs": [],
      "source": [
        ""
      ]
    },
    {
      "cell_type": "code",
      "source": [
        "a=10\n",
        "b=20.3\n",
        "c=a*b\n",
        "print(a)\n",
        "print(type(a))\n",
        "print(b)\n",
        "print(type(b))\n",
        "print(c)\n",
        "print(type(c))"
      ],
      "metadata": {
        "colab": {
          "base_uri": "https://localhost:8080/"
        },
        "id": "JhKQDl03TSXq",
        "outputId": "10ba456b-68c9-4d02-f400-f594c2daab9e"
      },
      "execution_count": null,
      "outputs": [
        {
          "output_type": "stream",
          "name": "stdout",
          "text": [
            "10\n",
            "<class 'int'>\n",
            "20.3\n",
            "<class 'float'>\n",
            "203.0\n",
            "<class 'float'>\n"
          ]
        }
      ]
    },
    {
      "cell_type": "code",
      "source": [
        "a=int(input(\"enter side A\"))\n",
        "b=int(input(\"enter side B\"))\n",
        "c=int(input(\"enter side C\"))\n",
        "if a==b==c:\n",
        "   print(\"it is an equilateral triangle\")\n",
        "elif a==b or b==c or c==a:\n",
        "  print(\"it is a isoceless triangle\")\n",
        "else:\n",
        "   print(\"it is an scalene triangle\")"
      ],
      "metadata": {
        "id": "b22Vuz0OToui",
        "colab": {
          "base_uri": "https://localhost:8080/"
        },
        "outputId": "5cd68b54-940f-4694-bef8-1e29979f29f3"
      },
      "execution_count": 10,
      "outputs": [
        {
          "output_type": "stream",
          "name": "stdout",
          "text": [
            "enter side A5\n",
            "enter side B6\n",
            "enter side C7\n",
            "it is an scalene triangle\n"
          ]
        }
      ]
    },
    {
      "cell_type": "code",
      "source": [
        "a=int(input(\"enter \"))\n",
        "b=int(input(\"enter \"))\n",
        "c=int(input(\"enter \"))\n",
        "if a<b and a<c:\n",
        "  print(\"a is the smallest number\")\n",
        "elif b<a and b<c:\n",
        "  print(\"b is the smallest number\")\n",
        "else:\n",
        "    print(\"c is the smallest number\")\n"
      ],
      "metadata": {
        "colab": {
          "base_uri": "https://localhost:8080/"
        },
        "id": "QQZ4FdqbRt9_",
        "outputId": "9d140dbd-fb91-42f9-fc4c-1e1a680af22b"
      },
      "execution_count": 25,
      "outputs": [
        {
          "output_type": "stream",
          "name": "stdout",
          "text": [
            "enter 5\n",
            "enter 6\n",
            "enter 7\n",
            "a is the smallest number\n"
          ]
        }
      ]
    },
    {
      "cell_type": "code",
      "source": [
        "a=int(input(\"enter\"))\n",
        "if a % 5 == 0 and a % 11 == 0:\n",
        " print(\"divisible\")\n",
        "else:\n",
        " print(\"not divisible\")"
      ],
      "metadata": {
        "colab": {
          "base_uri": "https://localhost:8080/"
        },
        "id": "BS2TXKq5UzwH",
        "outputId": "386ec67a-fdb4-423d-ddfd-d18298ca7ba2"
      },
      "execution_count": 35,
      "outputs": [
        {
          "output_type": "stream",
          "name": "stdout",
          "text": [
            "enter110\n",
            "divisible\n"
          ]
        }
      ]
    }
  ]
}